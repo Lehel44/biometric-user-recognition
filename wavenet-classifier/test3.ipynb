{
 "cells": [
  {
   "cell_type": "code",
   "execution_count": 1,
   "metadata": {},
   "outputs": [
    {
     "name": "stderr",
     "output_type": "stream",
     "text": [
      "Using TensorFlow backend.\n"
     ]
    }
   ],
   "source": [
    "import os, random\n",
    "from scipy.io import wavfile\n",
    "from shutil import copyfile\n",
    "from sphfile import SPHFile\n",
    "from WaveNetClassifier import WaveNetClassifier\n",
    "from sklearn.preprocessing import LabelEncoder\n",
    "from sklearn.preprocessing import OneHotEncoder\n",
    "import numpy as np\n",
    "import h5py"
   ]
  },
  {
   "cell_type": "code",
   "execution_count": 2,
   "metadata": {},
   "outputs": [],
   "source": [
    "# Cut training files to the same size and store the user ids and audio data in arrays.\n",
    "\n",
    "user_ids = []\n",
    "audio_data = []\n",
    "test_user_ids = []\n",
    "test_audio_data = []\n",
    "# Normalize the data before saving them to arrays.\n",
    "\n",
    "nb_bits = 16\n",
    "max_nb_bit = float(2 ** (nb_bits - 1))\n",
    "\n",
    "i = 0\n",
    "j = 0\n",
    "for path, dirnames, filenames in os.walk('TRAIN_WAV'):\n",
    "    j = 0\n",
    "    if i == 7:\n",
    "        break\n",
    "    for filename in filenames:         \n",
    "        file_path = os.path.join(path, filename)\n",
    "        fs, data = wavfile.read(file_path)\n",
    "        user_id = file_path.split(os.sep)[-2]\n",
    "        if j == 2:\n",
    "            break\n",
    "        if j == 1:\n",
    "            test_user_ids.append(user_id)\n",
    "            test_audio_data.append(data / (max_nb_bit + 1.0))\n",
    "        else:\n",
    "            user_ids.append(user_id)\n",
    "            audio_data.append(data / (max_nb_bit + 1.0))\n",
    "        j += 1\n",
    "    i += 1\n",
    "    \n",
    "# Min array length\n",
    "min_array = min(audio_data, key = len)\n",
    "min_length = len(min_array)\n",
    "\n",
    "for i, data in enumerate(audio_data):\n",
    "    audio_data[i] = data[0 : min_length]\n",
    "for i, data in enumerate(test_audio_data):\n",
    "    test_audio_data[i] = data[0 : min_length]"
   ]
  },
  {
   "cell_type": "code",
   "execution_count": 3,
   "metadata": {},
   "outputs": [
    {
     "name": "stdout",
     "output_type": "stream",
     "text": [
      "X_train shape:\n"
     ]
    },
    {
     "data": {
      "text/plain": [
       "(5, 46797)"
      ]
     },
     "metadata": {},
     "output_type": "display_data"
    },
    {
     "name": "stdout",
     "output_type": "stream",
     "text": [
      "Y_train shape:\n"
     ]
    },
    {
     "data": {
      "text/plain": [
       "(5, 5)"
      ]
     },
     "metadata": {},
     "output_type": "display_data"
    }
   ],
   "source": [
    "# Create a vector for each user id. Categorical -> one hot encoding\n",
    "# The list has to be converted the numpy array and transposed first.\n",
    "\n",
    "X_train = np.array(audio_data)\n",
    "\n",
    "onehot_encoder = OneHotEncoder(sparse = False, categories = 'auto')\n",
    "Y_train = onehot_encoder.fit_transform(np.array(user_ids).reshape(-1, 1))\n",
    "\n",
    "print('X_train shape:')\n",
    "display(X_train.shape)\n",
    "\n",
    "print('Y_train shape:')\n",
    "display(Y_train.shape)"
   ]
  },
  {
   "cell_type": "code",
   "execution_count": null,
   "metadata": {},
   "outputs": [],
   "source": [
    "wnc = WaveNetClassifier((46797,), (5,), kernel_size = 2, dilation_depth = 9, n_filters = 40, task = 'classification')"
   ]
  },
  {
   "cell_type": "code",
   "execution_count": null,
   "metadata": {},
   "outputs": [],
   "source": [
    "wnc.fit(X_train, Y_train, epochs = 200, batch_size = 32, optimizer='adam', save=True, save_dir='results3/')"
   ]
  },
  {
   "cell_type": "code",
   "execution_count": null,
   "metadata": {},
   "outputs": [],
   "source": []
  }
 ],
 "metadata": {
  "kernelspec": {
   "display_name": "Python 3",
   "language": "python",
   "name": "python3"
  },
  "language_info": {
   "codemirror_mode": {
    "name": "ipython",
    "version": 3
   },
   "file_extension": ".py",
   "mimetype": "text/x-python",
   "name": "python",
   "nbconvert_exporter": "python",
   "pygments_lexer": "ipython3",
   "version": "3.6.7"
  }
 },
 "nbformat": 4,
 "nbformat_minor": 2
}
